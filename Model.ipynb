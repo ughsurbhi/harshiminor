{
 "cells": [
  {
   "cell_type": "code",
   "execution_count": 3,
   "id": "bb1cf15f-f077-40a9-9ae8-8d79988d5f7d",
   "metadata": {},
   "outputs": [
    {
     "name": "stdout",
     "output_type": "stream",
     "text": [
      "Found 35829 images belonging to 1 classes.\n",
      "Using 7165 images instead of 35829\n",
      "Found 5732 validated image filenames belonging to 4 classes.\n",
      "Found 1433 validated image filenames belonging to 4 classes.\n"
     ]
    },
    {
     "name": "stderr",
     "output_type": "stream",
     "text": [
      "C:\\Users\\KIIT\\AppData\\Local\\Temp\\ipykernel_768\\2681171986.py:103: UserWarning: `input_shape` is undefined or non-square, or `rows` is not in [96, 128, 160, 192, 224]. Weights for input shape (224, 224) will be loaded as the default.\n",
      "  base_model = MobileNetV2(weights='imagenet', include_top=False)  # ✅ Faster model\n"
     ]
    },
    {
     "name": "stdout",
     "output_type": "stream",
     "text": [
      "Training for fold 1...\n"
     ]
    },
    {
     "name": "stderr",
     "output_type": "stream",
     "text": [
      "C:\\Users\\KIIT\\anaconda3\\Lib\\site-packages\\keras\\src\\trainers\\data_adapters\\py_dataset_adapter.py:121: UserWarning: Your `PyDataset` class should call `super().__init__(**kwargs)` in its constructor. `**kwargs` can include `workers`, `use_multiprocessing`, `max_queue_size`. Do not pass these arguments to `fit()`, as they will be ignored.\n",
      "  self._warn_if_super_not_called()\n"
     ]
    },
    {
     "name": "stdout",
     "output_type": "stream",
     "text": [
      "Epoch 1/10\n",
      "\u001b[1m180/180\u001b[0m \u001b[32m━━━━━━━━━━━━━━━━━━━━\u001b[0m\u001b[37m\u001b[0m \u001b[1m0s\u001b[0m 717ms/step - accuracy: 0.5967 - loss: 0.9820\n",
      "Epoch 1: val_loss improved from inf to 2.94853, saving model to model_fold_1.h5\n"
     ]
    },
    {
     "name": "stderr",
     "output_type": "stream",
     "text": [
      "WARNING:absl:You are saving your model as an HDF5 file via `model.save()` or `keras.saving.save_model(model)`. This file format is considered legacy. We recommend using instead the native Keras format, e.g. `model.save('my_model.keras')` or `keras.saving.save_model(model, 'my_model.keras')`. \n"
     ]
    },
    {
     "name": "stdout",
     "output_type": "stream",
     "text": [
      "\u001b[1m180/180\u001b[0m \u001b[32m━━━━━━━━━━━━━━━━━━━━\u001b[0m\u001b[37m\u001b[0m \u001b[1m178s\u001b[0m 889ms/step - accuracy: 0.5971 - loss: 0.9809 - val_accuracy: 0.6462 - val_loss: 2.9485\n",
      "Epoch 2/10\n",
      "\u001b[1m180/180\u001b[0m \u001b[32m━━━━━━━━━━━━━━━━━━━━\u001b[0m\u001b[37m\u001b[0m \u001b[1m0s\u001b[0m 403ms/step - accuracy: 0.7517 - loss: 0.5806\n",
      "Epoch 2: val_loss improved from 2.94853 to 2.15174, saving model to model_fold_1.h5\n"
     ]
    },
    {
     "name": "stderr",
     "output_type": "stream",
     "text": [
      "WARNING:absl:You are saving your model as an HDF5 file via `model.save()` or `keras.saving.save_model(model)`. This file format is considered legacy. We recommend using instead the native Keras format, e.g. `model.save('my_model.keras')` or `keras.saving.save_model(model, 'my_model.keras')`. \n"
     ]
    },
    {
     "name": "stdout",
     "output_type": "stream",
     "text": [
      "\u001b[1m180/180\u001b[0m \u001b[32m━━━━━━━━━━━━━━━━━━━━\u001b[0m\u001b[37m\u001b[0m \u001b[1m86s\u001b[0m 478ms/step - accuracy: 0.7517 - loss: 0.5805 - val_accuracy: 0.6867 - val_loss: 2.1517\n",
      "Epoch 3/10\n",
      "\u001b[1m180/180\u001b[0m \u001b[32m━━━━━━━━━━━━━━━━━━━━\u001b[0m\u001b[37m\u001b[0m \u001b[1m0s\u001b[0m 369ms/step - accuracy: 0.7966 - loss: 0.4839\n",
      "Epoch 3: val_loss did not improve from 2.15174\n",
      "\u001b[1m180/180\u001b[0m \u001b[32m━━━━━━━━━━━━━━━━━━━━\u001b[0m\u001b[37m\u001b[0m \u001b[1m79s\u001b[0m 440ms/step - accuracy: 0.7966 - loss: 0.4839 - val_accuracy: 0.5625 - val_loss: 5.1515\n",
      "Epoch 4/10\n",
      "\u001b[1m180/180\u001b[0m \u001b[32m━━━━━━━━━━━━━━━━━━━━\u001b[0m\u001b[37m\u001b[0m \u001b[1m0s\u001b[0m 412ms/step - accuracy: 0.7991 - loss: 0.4811\n",
      "Epoch 4: val_loss improved from 2.15174 to 1.91487, saving model to model_fold_1.h5\n"
     ]
    },
    {
     "name": "stderr",
     "output_type": "stream",
     "text": [
      "WARNING:absl:You are saving your model as an HDF5 file via `model.save()` or `keras.saving.save_model(model)`. This file format is considered legacy. We recommend using instead the native Keras format, e.g. `model.save('my_model.keras')` or `keras.saving.save_model(model, 'my_model.keras')`. \n"
     ]
    },
    {
     "name": "stdout",
     "output_type": "stream",
     "text": [
      "\u001b[1m180/180\u001b[0m \u001b[32m━━━━━━━━━━━━━━━━━━━━\u001b[0m\u001b[37m\u001b[0m \u001b[1m87s\u001b[0m 486ms/step - accuracy: 0.7991 - loss: 0.4811 - val_accuracy: 0.7313 - val_loss: 1.9149\n",
      "Epoch 5/10\n",
      "\u001b[1m180/180\u001b[0m \u001b[32m━━━━━━━━━━━━━━━━━━━━\u001b[0m\u001b[37m\u001b[0m \u001b[1m0s\u001b[0m 412ms/step - accuracy: 0.8345 - loss: 0.3937\n",
      "Epoch 5: val_loss did not improve from 1.91487\n",
      "\u001b[1m180/180\u001b[0m \u001b[32m━━━━━━━━━━━━━━━━━━━━\u001b[0m\u001b[37m\u001b[0m \u001b[1m88s\u001b[0m 491ms/step - accuracy: 0.8345 - loss: 0.3938 - val_accuracy: 0.5932 - val_loss: 3.7309\n",
      "Epoch 6/10\n",
      "\u001b[1m180/180\u001b[0m \u001b[32m━━━━━━━━━━━━━━━━━━━━\u001b[0m\u001b[37m\u001b[0m \u001b[1m0s\u001b[0m 405ms/step - accuracy: 0.8306 - loss: 0.3832\n",
      "Epoch 6: val_loss did not improve from 1.91487\n",
      "\u001b[1m180/180\u001b[0m \u001b[32m━━━━━━━━━━━━━━━━━━━━\u001b[0m\u001b[37m\u001b[0m \u001b[1m87s\u001b[0m 481ms/step - accuracy: 0.8306 - loss: 0.3833 - val_accuracy: 0.6057 - val_loss: 2.0629\n",
      "Epoch 7/10\n",
      "\u001b[1m180/180\u001b[0m \u001b[32m━━━━━━━━━━━━━━━━━━━━\u001b[0m\u001b[37m\u001b[0m \u001b[1m0s\u001b[0m 432ms/step - accuracy: 0.8673 - loss: 0.3319\n",
      "Epoch 7: val_loss improved from 1.91487 to 1.60429, saving model to model_fold_1.h5\n"
     ]
    },
    {
     "name": "stderr",
     "output_type": "stream",
     "text": [
      "WARNING:absl:You are saving your model as an HDF5 file via `model.save()` or `keras.saving.save_model(model)`. This file format is considered legacy. We recommend using instead the native Keras format, e.g. `model.save('my_model.keras')` or `keras.saving.save_model(model, 'my_model.keras')`. \n"
     ]
    },
    {
     "name": "stdout",
     "output_type": "stream",
     "text": [
      "\u001b[1m180/180\u001b[0m \u001b[32m━━━━━━━━━━━━━━━━━━━━\u001b[0m\u001b[37m\u001b[0m \u001b[1m95s\u001b[0m 528ms/step - accuracy: 0.8672 - loss: 0.3320 - val_accuracy: 0.6902 - val_loss: 1.6043\n",
      "Epoch 8/10\n",
      "\u001b[1m180/180\u001b[0m \u001b[32m━━━━━━━━━━━━━━━━━━━━\u001b[0m\u001b[37m\u001b[0m \u001b[1m0s\u001b[0m 427ms/step - accuracy: 0.8638 - loss: 0.3300\n",
      "Epoch 8: val_loss did not improve from 1.60429\n",
      "\u001b[1m180/180\u001b[0m \u001b[32m━━━━━━━━━━━━━━━━━━━━\u001b[0m\u001b[37m\u001b[0m \u001b[1m91s\u001b[0m 508ms/step - accuracy: 0.8638 - loss: 0.3300 - val_accuracy: 0.6706 - val_loss: 1.9720\n",
      "Epoch 9/10\n",
      "\u001b[1m180/180\u001b[0m \u001b[32m━━━━━━━━━━━━━━━━━━━━\u001b[0m\u001b[37m\u001b[0m \u001b[1m0s\u001b[0m 417ms/step - accuracy: 0.8812 - loss: 0.2875\n",
      "Epoch 9: val_loss did not improve from 1.60429\n",
      "\u001b[1m180/180\u001b[0m \u001b[32m━━━━━━━━━━━━━━━━━━━━\u001b[0m\u001b[37m\u001b[0m \u001b[1m90s\u001b[0m 501ms/step - accuracy: 0.8811 - loss: 0.2876 - val_accuracy: 0.6685 - val_loss: 3.3511\n",
      "Epoch 10/10\n",
      "\u001b[1m180/180\u001b[0m \u001b[32m━━━━━━━━━━━━━━━━━━━━\u001b[0m\u001b[37m\u001b[0m \u001b[1m0s\u001b[0m 442ms/step - accuracy: 0.8821 - loss: 0.3019\n",
      "Epoch 10: val_loss did not improve from 1.60429\n",
      "\u001b[1m180/180\u001b[0m \u001b[32m━━━━━━━━━━━━━━━━━━━━\u001b[0m\u001b[37m\u001b[0m \u001b[1m96s\u001b[0m 534ms/step - accuracy: 0.8821 - loss: 0.3019 - val_accuracy: 0.7383 - val_loss: 1.7625\n",
      "Fold 1 - Accuracy: 72.71%\n",
      "Found 5732 validated image filenames belonging to 4 classes.\n",
      "Found 1433 validated image filenames belonging to 4 classes.\n"
     ]
    },
    {
     "name": "stderr",
     "output_type": "stream",
     "text": [
      "C:\\Users\\KIIT\\AppData\\Local\\Temp\\ipykernel_768\\2681171986.py:103: UserWarning: `input_shape` is undefined or non-square, or `rows` is not in [96, 128, 160, 192, 224]. Weights for input shape (224, 224) will be loaded as the default.\n",
      "  base_model = MobileNetV2(weights='imagenet', include_top=False)  # ✅ Faster model\n"
     ]
    },
    {
     "name": "stdout",
     "output_type": "stream",
     "text": [
      "Training for fold 2...\n"
     ]
    },
    {
     "name": "stderr",
     "output_type": "stream",
     "text": [
      "C:\\Users\\KIIT\\anaconda3\\Lib\\site-packages\\keras\\src\\trainers\\data_adapters\\py_dataset_adapter.py:121: UserWarning: Your `PyDataset` class should call `super().__init__(**kwargs)` in its constructor. `**kwargs` can include `workers`, `use_multiprocessing`, `max_queue_size`. Do not pass these arguments to `fit()`, as they will be ignored.\n",
      "  self._warn_if_super_not_called()\n"
     ]
    },
    {
     "name": "stdout",
     "output_type": "stream",
     "text": [
      "Epoch 1/10\n",
      "\u001b[1m180/180\u001b[0m \u001b[32m━━━━━━━━━━━━━━━━━━━━\u001b[0m\u001b[37m\u001b[0m \u001b[1m0s\u001b[0m 422ms/step - accuracy: 0.5876 - loss: 0.9927\n",
      "Epoch 1: val_loss improved from inf to 3.55877, saving model to model_fold_2.h5\n"
     ]
    },
    {
     "name": "stderr",
     "output_type": "stream",
     "text": [
      "WARNING:absl:You are saving your model as an HDF5 file via `model.save()` or `keras.saving.save_model(model)`. This file format is considered legacy. We recommend using instead the native Keras format, e.g. `model.save('my_model.keras')` or `keras.saving.save_model(model, 'my_model.keras')`. \n"
     ]
    },
    {
     "name": "stdout",
     "output_type": "stream",
     "text": [
      "\u001b[1m180/180\u001b[0m \u001b[32m━━━━━━━━━━━━━━━━━━━━\u001b[0m\u001b[37m\u001b[0m \u001b[1m115s\u001b[0m 524ms/step - accuracy: 0.5880 - loss: 0.9918 - val_accuracy: 0.3880 - val_loss: 3.5588\n",
      "Epoch 2/10\n",
      "\u001b[1m180/180\u001b[0m \u001b[32m━━━━━━━━━━━━━━━━━━━━\u001b[0m\u001b[37m\u001b[0m \u001b[1m0s\u001b[0m 429ms/step - accuracy: 0.7683 - loss: 0.5467\n",
      "Epoch 2: val_loss did not improve from 3.55877\n",
      "\u001b[1m180/180\u001b[0m \u001b[32m━━━━━━━━━━━━━━━━━━━━\u001b[0m\u001b[37m\u001b[0m \u001b[1m94s\u001b[0m 520ms/step - accuracy: 0.7683 - loss: 0.5467 - val_accuracy: 0.4487 - val_loss: 3.9744\n",
      "Epoch 3/10\n",
      "\u001b[1m180/180\u001b[0m \u001b[32m━━━━━━━━━━━━━━━━━━━━\u001b[0m\u001b[37m\u001b[0m \u001b[1m0s\u001b[0m 400ms/step - accuracy: 0.7825 - loss: 0.5098\n",
      "Epoch 3: val_loss improved from 3.55877 to 1.14308, saving model to model_fold_2.h5\n"
     ]
    },
    {
     "name": "stderr",
     "output_type": "stream",
     "text": [
      "WARNING:absl:You are saving your model as an HDF5 file via `model.save()` or `keras.saving.save_model(model)`. This file format is considered legacy. We recommend using instead the native Keras format, e.g. `model.save('my_model.keras')` or `keras.saving.save_model(model, 'my_model.keras')`. \n"
     ]
    },
    {
     "name": "stdout",
     "output_type": "stream",
     "text": [
      "\u001b[1m180/180\u001b[0m \u001b[32m━━━━━━━━━━━━━━━━━━━━\u001b[0m\u001b[37m\u001b[0m \u001b[1m86s\u001b[0m 475ms/step - accuracy: 0.7825 - loss: 0.5099 - val_accuracy: 0.6643 - val_loss: 1.1431\n",
      "Epoch 4/10\n",
      "\u001b[1m180/180\u001b[0m \u001b[32m━━━━━━━━━━━━━━━━━━━━\u001b[0m\u001b[37m\u001b[0m \u001b[1m0s\u001b[0m 396ms/step - accuracy: 0.8149 - loss: 0.4440\n",
      "Epoch 4: val_loss did not improve from 1.14308\n",
      "\u001b[1m180/180\u001b[0m \u001b[32m━━━━━━━━━━━━━━━━━━━━\u001b[0m\u001b[37m\u001b[0m \u001b[1m85s\u001b[0m 475ms/step - accuracy: 0.8150 - loss: 0.4440 - val_accuracy: 0.5059 - val_loss: 4.7595\n",
      "Epoch 5/10\n",
      "\u001b[1m180/180\u001b[0m \u001b[32m━━━━━━━━━━━━━━━━━━━━\u001b[0m\u001b[37m\u001b[0m \u001b[1m0s\u001b[0m 439ms/step - accuracy: 0.8249 - loss: 0.4153\n",
      "Epoch 5: val_loss did not improve from 1.14308\n",
      "\u001b[1m180/180\u001b[0m \u001b[32m━━━━━━━━━━━━━━━━━━━━\u001b[0m\u001b[37m\u001b[0m \u001b[1m94s\u001b[0m 523ms/step - accuracy: 0.8248 - loss: 0.4154 - val_accuracy: 0.6260 - val_loss: 2.5467\n",
      "Epoch 6/10\n",
      "\u001b[1m180/180\u001b[0m \u001b[32m━━━━━━━━━━━━━━━━━━━━\u001b[0m\u001b[37m\u001b[0m \u001b[1m0s\u001b[0m 467ms/step - accuracy: 0.8467 - loss: 0.3560\n",
      "Epoch 6: val_loss improved from 1.14308 to 1.08817, saving model to model_fold_2.h5\n"
     ]
    },
    {
     "name": "stderr",
     "output_type": "stream",
     "text": [
      "WARNING:absl:You are saving your model as an HDF5 file via `model.save()` or `keras.saving.save_model(model)`. This file format is considered legacy. We recommend using instead the native Keras format, e.g. `model.save('my_model.keras')` or `keras.saving.save_model(model, 'my_model.keras')`. \n"
     ]
    },
    {
     "name": "stdout",
     "output_type": "stream",
     "text": [
      "\u001b[1m180/180\u001b[0m \u001b[32m━━━━━━━━━━━━━━━━━━━━\u001b[0m\u001b[37m\u001b[0m \u001b[1m99s\u001b[0m 549ms/step - accuracy: 0.8467 - loss: 0.3560 - val_accuracy: 0.7725 - val_loss: 1.0882\n",
      "Epoch 7/10\n",
      "\u001b[1m180/180\u001b[0m \u001b[32m━━━━━━━━━━━━━━━━━━━━\u001b[0m\u001b[37m\u001b[0m \u001b[1m0s\u001b[0m 440ms/step - accuracy: 0.8564 - loss: 0.3480\n",
      "Epoch 7: val_loss did not improve from 1.08817\n",
      "\u001b[1m180/180\u001b[0m \u001b[32m━━━━━━━━━━━━━━━━━━━━\u001b[0m\u001b[37m\u001b[0m \u001b[1m95s\u001b[0m 526ms/step - accuracy: 0.8564 - loss: 0.3480 - val_accuracy: 0.6825 - val_loss: 1.6251\n",
      "Epoch 8/10\n",
      "\u001b[1m180/180\u001b[0m \u001b[32m━━━━━━━━━━━━━━━━━━━━\u001b[0m\u001b[37m\u001b[0m \u001b[1m0s\u001b[0m 440ms/step - accuracy: 0.8699 - loss: 0.3134\n",
      "Epoch 8: val_loss did not improve from 1.08817\n",
      "\u001b[1m180/180\u001b[0m \u001b[32m━━━━━━━━━━━━━━━━━━━━\u001b[0m\u001b[37m\u001b[0m \u001b[1m94s\u001b[0m 520ms/step - accuracy: 0.8699 - loss: 0.3135 - val_accuracy: 0.5967 - val_loss: 2.3992\n",
      "Epoch 9/10\n",
      "\u001b[1m180/180\u001b[0m \u001b[32m━━━━━━━━━━━━━━━━━━━━\u001b[0m\u001b[37m\u001b[0m \u001b[1m0s\u001b[0m 390ms/step - accuracy: 0.8682 - loss: 0.3147\n",
      "Epoch 9: val_loss did not improve from 1.08817\n",
      "\u001b[1m180/180\u001b[0m \u001b[32m━━━━━━━━━━━━━━━━━━━━\u001b[0m\u001b[37m\u001b[0m \u001b[1m82s\u001b[0m 454ms/step - accuracy: 0.8682 - loss: 0.3147 - val_accuracy: 0.6239 - val_loss: 2.1479\n",
      "Epoch 10/10\n",
      "\u001b[1m180/180\u001b[0m \u001b[32m━━━━━━━━━━━━━━━━━━━━\u001b[0m\u001b[37m\u001b[0m \u001b[1m0s\u001b[0m 369ms/step - accuracy: 0.8812 - loss: 0.2777\n",
      "Epoch 10: val_loss did not improve from 1.08817\n",
      "\u001b[1m180/180\u001b[0m \u001b[32m━━━━━━━━━━━━━━━━━━━━\u001b[0m\u001b[37m\u001b[0m \u001b[1m78s\u001b[0m 434ms/step - accuracy: 0.8811 - loss: 0.2778 - val_accuracy: 0.6685 - val_loss: 1.5835\n",
      "Fold 2 - Accuracy: 68.39%\n",
      "Found 5732 validated image filenames belonging to 4 classes.\n",
      "Found 1433 validated image filenames belonging to 4 classes.\n"
     ]
    },
    {
     "name": "stderr",
     "output_type": "stream",
     "text": [
      "C:\\Users\\KIIT\\AppData\\Local\\Temp\\ipykernel_768\\2681171986.py:103: UserWarning: `input_shape` is undefined or non-square, or `rows` is not in [96, 128, 160, 192, 224]. Weights for input shape (224, 224) will be loaded as the default.\n",
      "  base_model = MobileNetV2(weights='imagenet', include_top=False)  # ✅ Faster model\n"
     ]
    },
    {
     "name": "stdout",
     "output_type": "stream",
     "text": [
      "Training for fold 3...\n"
     ]
    },
    {
     "name": "stderr",
     "output_type": "stream",
     "text": [
      "C:\\Users\\KIIT\\anaconda3\\Lib\\site-packages\\keras\\src\\trainers\\data_adapters\\py_dataset_adapter.py:121: UserWarning: Your `PyDataset` class should call `super().__init__(**kwargs)` in its constructor. `**kwargs` can include `workers`, `use_multiprocessing`, `max_queue_size`. Do not pass these arguments to `fit()`, as they will be ignored.\n",
      "  self._warn_if_super_not_called()\n"
     ]
    },
    {
     "name": "stdout",
     "output_type": "stream",
     "text": [
      "Epoch 1/10\n",
      "\u001b[1m180/180\u001b[0m \u001b[32m━━━━━━━━━━━━━━━━━━━━\u001b[0m\u001b[37m\u001b[0m \u001b[1m0s\u001b[0m 352ms/step - accuracy: 0.6052 - loss: 0.9280\n",
      "Epoch 1: val_loss improved from inf to 2.04475, saving model to model_fold_3.h5\n"
     ]
    },
    {
     "name": "stderr",
     "output_type": "stream",
     "text": [
      "WARNING:absl:You are saving your model as an HDF5 file via `model.save()` or `keras.saving.save_model(model)`. This file format is considered legacy. We recommend using instead the native Keras format, e.g. `model.save('my_model.keras')` or `keras.saving.save_model(model, 'my_model.keras')`. \n"
     ]
    },
    {
     "name": "stdout",
     "output_type": "stream",
     "text": [
      "\u001b[1m180/180\u001b[0m \u001b[32m━━━━━━━━━━━━━━━━━━━━\u001b[0m\u001b[37m\u001b[0m \u001b[1m98s\u001b[0m 441ms/step - accuracy: 0.6056 - loss: 0.9270 - val_accuracy: 0.6099 - val_loss: 2.0447\n",
      "Epoch 2/10\n",
      "\u001b[1m180/180\u001b[0m \u001b[32m━━━━━━━━━━━━━━━━━━━━\u001b[0m\u001b[37m\u001b[0m \u001b[1m0s\u001b[0m 387ms/step - accuracy: 0.7705 - loss: 0.5526\n",
      "Epoch 2: val_loss did not improve from 2.04475\n",
      "\u001b[1m180/180\u001b[0m \u001b[32m━━━━━━━━━━━━━━━━━━━━\u001b[0m\u001b[37m\u001b[0m \u001b[1m83s\u001b[0m 459ms/step - accuracy: 0.7705 - loss: 0.5525 - val_accuracy: 0.5604 - val_loss: 3.1723\n",
      "Epoch 3/10\n",
      "\u001b[1m180/180\u001b[0m \u001b[32m━━━━━━━━━━━━━━━━━━━━\u001b[0m\u001b[37m\u001b[0m \u001b[1m0s\u001b[0m 398ms/step - accuracy: 0.7904 - loss: 0.4862\n",
      "Epoch 3: val_loss improved from 2.04475 to 1.63070, saving model to model_fold_3.h5\n"
     ]
    },
    {
     "name": "stderr",
     "output_type": "stream",
     "text": [
      "WARNING:absl:You are saving your model as an HDF5 file via `model.save()` or `keras.saving.save_model(model)`. This file format is considered legacy. We recommend using instead the native Keras format, e.g. `model.save('my_model.keras')` or `keras.saving.save_model(model, 'my_model.keras')`. \n"
     ]
    },
    {
     "name": "stdout",
     "output_type": "stream",
     "text": [
      "\u001b[1m180/180\u001b[0m \u001b[32m━━━━━━━━━━━━━━━━━━━━\u001b[0m\u001b[37m\u001b[0m \u001b[1m85s\u001b[0m 470ms/step - accuracy: 0.7903 - loss: 0.4863 - val_accuracy: 0.7306 - val_loss: 1.6307\n",
      "Epoch 4/10\n",
      "\u001b[1m180/180\u001b[0m \u001b[32m━━━━━━━━━━━━━━━━━━━━\u001b[0m\u001b[37m\u001b[0m \u001b[1m0s\u001b[0m 347ms/step - accuracy: 0.8086 - loss: 0.4583\n",
      "Epoch 4: val_loss did not improve from 1.63070\n",
      "\u001b[1m180/180\u001b[0m \u001b[32m━━━━━━━━━━━━━━━━━━━━\u001b[0m\u001b[37m\u001b[0m \u001b[1m75s\u001b[0m 415ms/step - accuracy: 0.8085 - loss: 0.4585 - val_accuracy: 0.6197 - val_loss: 2.2542\n",
      "Epoch 5/10\n",
      "\u001b[1m180/180\u001b[0m \u001b[32m━━━━━━━━━━━━━━━━━━━━\u001b[0m\u001b[37m\u001b[0m \u001b[1m0s\u001b[0m 355ms/step - accuracy: 0.8117 - loss: 0.4425\n",
      "Epoch 5: val_loss did not improve from 1.63070\n",
      "\u001b[1m180/180\u001b[0m \u001b[32m━━━━━━━━━━━━━━━━━━━━\u001b[0m\u001b[37m\u001b[0m \u001b[1m76s\u001b[0m 420ms/step - accuracy: 0.8118 - loss: 0.4423 - val_accuracy: 0.6064 - val_loss: 2.6725\n",
      "Epoch 6/10\n",
      "\u001b[1m180/180\u001b[0m \u001b[32m━━━━━━━━━━━━━━━━━━━━\u001b[0m\u001b[37m\u001b[0m \u001b[1m0s\u001b[0m 362ms/step - accuracy: 0.8380 - loss: 0.3876\n",
      "Epoch 6: val_loss did not improve from 1.63070\n",
      "\u001b[1m180/180\u001b[0m \u001b[32m━━━━━━━━━━━━━━━━━━━━\u001b[0m\u001b[37m\u001b[0m \u001b[1m77s\u001b[0m 426ms/step - accuracy: 0.8379 - loss: 0.3877 - val_accuracy: 0.7306 - val_loss: 1.8142\n",
      "Epoch 7/10\n",
      "\u001b[1m180/180\u001b[0m \u001b[32m━━━━━━━━━━━━━━━━━━━━\u001b[0m\u001b[37m\u001b[0m \u001b[1m0s\u001b[0m 362ms/step - accuracy: 0.8559 - loss: 0.3568\n",
      "Epoch 7: val_loss improved from 1.63070 to 1.59709, saving model to model_fold_3.h5\n"
     ]
    },
    {
     "name": "stderr",
     "output_type": "stream",
     "text": [
      "WARNING:absl:You are saving your model as an HDF5 file via `model.save()` or `keras.saving.save_model(model)`. This file format is considered legacy. We recommend using instead the native Keras format, e.g. `model.save('my_model.keras')` or `keras.saving.save_model(model, 'my_model.keras')`. \n"
     ]
    },
    {
     "name": "stdout",
     "output_type": "stream",
     "text": [
      "\u001b[1m180/180\u001b[0m \u001b[32m━━━━━━━━━━━━━━━━━━━━\u001b[0m\u001b[37m\u001b[0m \u001b[1m77s\u001b[0m 429ms/step - accuracy: 0.8558 - loss: 0.3568 - val_accuracy: 0.6253 - val_loss: 1.5971\n",
      "Epoch 8/10\n",
      "\u001b[1m180/180\u001b[0m \u001b[32m━━━━━━━━━━━━━━━━━━━━\u001b[0m\u001b[37m\u001b[0m \u001b[1m0s\u001b[0m 358ms/step - accuracy: 0.8613 - loss: 0.3439\n",
      "Epoch 8: val_loss improved from 1.59709 to 1.08500, saving model to model_fold_3.h5\n"
     ]
    },
    {
     "name": "stderr",
     "output_type": "stream",
     "text": [
      "WARNING:absl:You are saving your model as an HDF5 file via `model.save()` or `keras.saving.save_model(model)`. This file format is considered legacy. We recommend using instead the native Keras format, e.g. `model.save('my_model.keras')` or `keras.saving.save_model(model, 'my_model.keras')`. \n"
     ]
    },
    {
     "name": "stdout",
     "output_type": "stream",
     "text": [
      "\u001b[1m180/180\u001b[0m \u001b[32m━━━━━━━━━━━━━━━━━━━━\u001b[0m\u001b[37m\u001b[0m \u001b[1m77s\u001b[0m 426ms/step - accuracy: 0.8613 - loss: 0.3440 - val_accuracy: 0.7725 - val_loss: 1.0850\n",
      "Epoch 9/10\n",
      "\u001b[1m180/180\u001b[0m \u001b[32m━━━━━━━━━━━━━━━━━━━━\u001b[0m\u001b[37m\u001b[0m \u001b[1m0s\u001b[0m 373ms/step - accuracy: 0.8866 - loss: 0.2983\n",
      "Epoch 9: val_loss did not improve from 1.08500\n",
      "\u001b[1m180/180\u001b[0m \u001b[32m━━━━━━━━━━━━━━━━━━━━\u001b[0m\u001b[37m\u001b[0m \u001b[1m79s\u001b[0m 438ms/step - accuracy: 0.8865 - loss: 0.2984 - val_accuracy: 0.7020 - val_loss: 1.2637\n",
      "Epoch 10/10\n",
      "\u001b[1m180/180\u001b[0m \u001b[32m━━━━━━━━━━━━━━━━━━━━\u001b[0m\u001b[37m\u001b[0m \u001b[1m0s\u001b[0m 360ms/step - accuracy: 0.8867 - loss: 0.2850\n",
      "Epoch 10: val_loss did not improve from 1.08500\n",
      "\u001b[1m180/180\u001b[0m \u001b[32m━━━━━━━━━━━━━━━━━━━━\u001b[0m\u001b[37m\u001b[0m \u001b[1m76s\u001b[0m 425ms/step - accuracy: 0.8866 - loss: 0.2852 - val_accuracy: 0.7202 - val_loss: 1.4555\n",
      "Fold 3 - Accuracy: 71.46%\n",
      "Found 5732 validated image filenames belonging to 4 classes.\n",
      "Found 1433 validated image filenames belonging to 4 classes.\n"
     ]
    },
    {
     "name": "stderr",
     "output_type": "stream",
     "text": [
      "C:\\Users\\KIIT\\AppData\\Local\\Temp\\ipykernel_768\\2681171986.py:103: UserWarning: `input_shape` is undefined or non-square, or `rows` is not in [96, 128, 160, 192, 224]. Weights for input shape (224, 224) will be loaded as the default.\n",
      "  base_model = MobileNetV2(weights='imagenet', include_top=False)  # ✅ Faster model\n"
     ]
    },
    {
     "name": "stdout",
     "output_type": "stream",
     "text": [
      "Training for fold 4...\n"
     ]
    },
    {
     "name": "stderr",
     "output_type": "stream",
     "text": [
      "C:\\Users\\KIIT\\anaconda3\\Lib\\site-packages\\keras\\src\\trainers\\data_adapters\\py_dataset_adapter.py:121: UserWarning: Your `PyDataset` class should call `super().__init__(**kwargs)` in its constructor. `**kwargs` can include `workers`, `use_multiprocessing`, `max_queue_size`. Do not pass these arguments to `fit()`, as they will be ignored.\n",
      "  self._warn_if_super_not_called()\n"
     ]
    },
    {
     "name": "stdout",
     "output_type": "stream",
     "text": [
      "Epoch 1/10\n",
      "\u001b[1m180/180\u001b[0m \u001b[32m━━━━━━━━━━━━━━━━━━━━\u001b[0m\u001b[37m\u001b[0m \u001b[1m0s\u001b[0m 336ms/step - accuracy: 0.5854 - loss: 0.9685\n",
      "Epoch 1: val_loss improved from inf to 1.53161, saving model to model_fold_4.h5\n"
     ]
    },
    {
     "name": "stderr",
     "output_type": "stream",
     "text": [
      "WARNING:absl:You are saving your model as an HDF5 file via `model.save()` or `keras.saving.save_model(model)`. This file format is considered legacy. We recommend using instead the native Keras format, e.g. `model.save('my_model.keras')` or `keras.saving.save_model(model, 'my_model.keras')`. \n"
     ]
    },
    {
     "name": "stdout",
     "output_type": "stream",
     "text": [
      "\u001b[1m180/180\u001b[0m \u001b[32m━━━━━━━━━━━━━━━━━━━━\u001b[0m\u001b[37m\u001b[0m \u001b[1m94s\u001b[0m 418ms/step - accuracy: 0.5858 - loss: 0.9675 - val_accuracy: 0.7006 - val_loss: 1.5316\n",
      "Epoch 2/10\n",
      "\u001b[1m180/180\u001b[0m \u001b[32m━━━━━━━━━━━━━━━━━━━━\u001b[0m\u001b[37m\u001b[0m \u001b[1m0s\u001b[0m 352ms/step - accuracy: 0.7414 - loss: 0.5936\n",
      "Epoch 2: val_loss did not improve from 1.53161\n",
      "\u001b[1m180/180\u001b[0m \u001b[32m━━━━━━━━━━━━━━━━━━━━\u001b[0m\u001b[37m\u001b[0m \u001b[1m75s\u001b[0m 417ms/step - accuracy: 0.7415 - loss: 0.5935 - val_accuracy: 0.6874 - val_loss: 2.8576\n",
      "Epoch 3/10\n",
      "\u001b[1m180/180\u001b[0m \u001b[32m━━━━━━━━━━━━━━━━━━━━\u001b[0m\u001b[37m\u001b[0m \u001b[1m0s\u001b[0m 361ms/step - accuracy: 0.7927 - loss: 0.4929\n",
      "Epoch 3: val_loss did not improve from 1.53161\n",
      "\u001b[1m180/180\u001b[0m \u001b[32m━━━━━━━━━━━━━━━━━━━━\u001b[0m\u001b[37m\u001b[0m \u001b[1m77s\u001b[0m 428ms/step - accuracy: 0.7927 - loss: 0.4929 - val_accuracy: 0.7104 - val_loss: 1.7630\n",
      "Epoch 4/10\n",
      "\u001b[1m180/180\u001b[0m \u001b[32m━━━━━━━━━━━━━━━━━━━━\u001b[0m\u001b[37m\u001b[0m \u001b[1m0s\u001b[0m 368ms/step - accuracy: 0.8098 - loss: 0.4468\n",
      "Epoch 4: val_loss did not improve from 1.53161\n",
      "\u001b[1m180/180\u001b[0m \u001b[32m━━━━━━━━━━━━━━━━━━━━\u001b[0m\u001b[37m\u001b[0m \u001b[1m79s\u001b[0m 436ms/step - accuracy: 0.8098 - loss: 0.4468 - val_accuracy: 0.5862 - val_loss: 2.1225\n",
      "Epoch 5/10\n",
      "\u001b[1m180/180\u001b[0m \u001b[32m━━━━━━━━━━━━━━━━━━━━\u001b[0m\u001b[37m\u001b[0m \u001b[1m0s\u001b[0m 377ms/step - accuracy: 0.8362 - loss: 0.3957\n",
      "Epoch 5: val_loss did not improve from 1.53161\n",
      "\u001b[1m180/180\u001b[0m \u001b[32m━━━━━━━━━━━━━━━━━━━━\u001b[0m\u001b[37m\u001b[0m \u001b[1m80s\u001b[0m 445ms/step - accuracy: 0.8361 - loss: 0.3959 - val_accuracy: 0.6288 - val_loss: 2.7818\n",
      "Epoch 6/10\n",
      "\u001b[1m180/180\u001b[0m \u001b[32m━━━━━━━━━━━━━━━━━━━━\u001b[0m\u001b[37m\u001b[0m \u001b[1m0s\u001b[0m 372ms/step - accuracy: 0.8414 - loss: 0.3934\n",
      "Epoch 6: val_loss did not improve from 1.53161\n",
      "\u001b[1m180/180\u001b[0m \u001b[32m━━━━━━━━━━━━━━━━━━━━\u001b[0m\u001b[37m\u001b[0m \u001b[1m78s\u001b[0m 435ms/step - accuracy: 0.8414 - loss: 0.3933 - val_accuracy: 0.6050 - val_loss: 2.3298\n",
      "Epoch 7/10\n",
      "\u001b[1m180/180\u001b[0m \u001b[32m━━━━━━━━━━━━━━━━━━━━\u001b[0m\u001b[37m\u001b[0m \u001b[1m0s\u001b[0m 345ms/step - accuracy: 0.8454 - loss: 0.3763\n",
      "Epoch 7: val_loss did not improve from 1.53161\n",
      "\u001b[1m180/180\u001b[0m \u001b[32m━━━━━━━━━━━━━━━━━━━━\u001b[0m\u001b[37m\u001b[0m \u001b[1m75s\u001b[0m 417ms/step - accuracy: 0.8454 - loss: 0.3763 - val_accuracy: 0.6546 - val_loss: 2.0228\n",
      "Epoch 8/10\n",
      "\u001b[1m180/180\u001b[0m \u001b[32m━━━━━━━━━━━━━━━━━━━━\u001b[0m\u001b[37m\u001b[0m \u001b[1m0s\u001b[0m 346ms/step - accuracy: 0.8655 - loss: 0.3214\n",
      "Epoch 8: val_loss improved from 1.53161 to 1.38879, saving model to model_fold_4.h5\n"
     ]
    },
    {
     "name": "stderr",
     "output_type": "stream",
     "text": [
      "WARNING:absl:You are saving your model as an HDF5 file via `model.save()` or `keras.saving.save_model(model)`. This file format is considered legacy. We recommend using instead the native Keras format, e.g. `model.save('my_model.keras')` or `keras.saving.save_model(model, 'my_model.keras')`. \n"
     ]
    },
    {
     "name": "stdout",
     "output_type": "stream",
     "text": [
      "\u001b[1m180/180\u001b[0m \u001b[32m━━━━━━━━━━━━━━━━━━━━\u001b[0m\u001b[37m\u001b[0m \u001b[1m74s\u001b[0m 410ms/step - accuracy: 0.8655 - loss: 0.3215 - val_accuracy: 0.7634 - val_loss: 1.3888\n",
      "Epoch 9/10\n",
      "\u001b[1m180/180\u001b[0m \u001b[32m━━━━━━━━━━━━━━━━━━━━\u001b[0m\u001b[37m\u001b[0m \u001b[1m0s\u001b[0m 358ms/step - accuracy: 0.8669 - loss: 0.3424\n",
      "Epoch 9: val_loss did not improve from 1.38879\n",
      "\u001b[1m180/180\u001b[0m \u001b[32m━━━━━━━━━━━━━━━━━━━━\u001b[0m\u001b[37m\u001b[0m \u001b[1m76s\u001b[0m 420ms/step - accuracy: 0.8669 - loss: 0.3424 - val_accuracy: 0.5248 - val_loss: 7.1058\n",
      "Epoch 10/10\n",
      "\u001b[1m180/180\u001b[0m \u001b[32m━━━━━━━━━━━━━━━━━━━━\u001b[0m\u001b[37m\u001b[0m \u001b[1m0s\u001b[0m 348ms/step - accuracy: 0.8473 - loss: 0.3776\n",
      "Epoch 10: val_loss did not improve from 1.38879\n",
      "\u001b[1m180/180\u001b[0m \u001b[32m━━━━━━━━━━━━━━━━━━━━\u001b[0m\u001b[37m\u001b[0m \u001b[1m74s\u001b[0m 410ms/step - accuracy: 0.8474 - loss: 0.3775 - val_accuracy: 0.7167 - val_loss: 1.7723\n",
      "Fold 4 - Accuracy: 71.60%\n",
      "Found 5732 validated image filenames belonging to 4 classes.\n",
      "Found 1433 validated image filenames belonging to 4 classes.\n"
     ]
    },
    {
     "name": "stderr",
     "output_type": "stream",
     "text": [
      "C:\\Users\\KIIT\\AppData\\Local\\Temp\\ipykernel_768\\2681171986.py:103: UserWarning: `input_shape` is undefined or non-square, or `rows` is not in [96, 128, 160, 192, 224]. Weights for input shape (224, 224) will be loaded as the default.\n",
      "  base_model = MobileNetV2(weights='imagenet', include_top=False)  # ✅ Faster model\n"
     ]
    },
    {
     "name": "stdout",
     "output_type": "stream",
     "text": [
      "Training for fold 5...\n"
     ]
    },
    {
     "name": "stderr",
     "output_type": "stream",
     "text": [
      "C:\\Users\\KIIT\\anaconda3\\Lib\\site-packages\\keras\\src\\trainers\\data_adapters\\py_dataset_adapter.py:121: UserWarning: Your `PyDataset` class should call `super().__init__(**kwargs)` in its constructor. `**kwargs` can include `workers`, `use_multiprocessing`, `max_queue_size`. Do not pass these arguments to `fit()`, as they will be ignored.\n",
      "  self._warn_if_super_not_called()\n"
     ]
    },
    {
     "name": "stdout",
     "output_type": "stream",
     "text": [
      "Epoch 1/10\n",
      "\u001b[1m180/180\u001b[0m \u001b[32m━━━━━━━━━━━━━━━━━━━━\u001b[0m\u001b[37m\u001b[0m \u001b[1m0s\u001b[0m 326ms/step - accuracy: 0.6312 - loss: 0.8751\n",
      "Epoch 1: val_loss improved from inf to 1.96145, saving model to model_fold_5.h5\n"
     ]
    },
    {
     "name": "stderr",
     "output_type": "stream",
     "text": [
      "WARNING:absl:You are saving your model as an HDF5 file via `model.save()` or `keras.saving.save_model(model)`. This file format is considered legacy. We recommend using instead the native Keras format, e.g. `model.save('my_model.keras')` or `keras.saving.save_model(model, 'my_model.keras')`. \n"
     ]
    },
    {
     "name": "stdout",
     "output_type": "stream",
     "text": [
      "\u001b[1m180/180\u001b[0m \u001b[32m━━━━━━━━━━━━━━━━━━━━\u001b[0m\u001b[37m\u001b[0m \u001b[1m87s\u001b[0m 400ms/step - accuracy: 0.6314 - loss: 0.8744 - val_accuracy: 0.6497 - val_loss: 1.9614\n",
      "Epoch 2/10\n",
      "\u001b[1m180/180\u001b[0m \u001b[32m━━━━━━━━━━━━━━━━━━━━\u001b[0m\u001b[37m\u001b[0m \u001b[1m0s\u001b[0m 350ms/step - accuracy: 0.7370 - loss: 0.6047\n",
      "Epoch 2: val_loss did not improve from 1.96145\n",
      "\u001b[1m180/180\u001b[0m \u001b[32m━━━━━━━━━━━━━━━━━━━━\u001b[0m\u001b[37m\u001b[0m \u001b[1m74s\u001b[0m 410ms/step - accuracy: 0.7371 - loss: 0.6046 - val_accuracy: 0.7111 - val_loss: 1.9717\n",
      "Epoch 3/10\n",
      "\u001b[1m180/180\u001b[0m \u001b[32m━━━━━━━━━━━━━━━━━━━━\u001b[0m\u001b[37m\u001b[0m \u001b[1m0s\u001b[0m 346ms/step - accuracy: 0.7838 - loss: 0.4907\n",
      "Epoch 3: val_loss did not improve from 1.96145\n",
      "\u001b[1m180/180\u001b[0m \u001b[32m━━━━━━━━━━━━━━━━━━━━\u001b[0m\u001b[37m\u001b[0m \u001b[1m73s\u001b[0m 408ms/step - accuracy: 0.7838 - loss: 0.4907 - val_accuracy: 0.7202 - val_loss: 2.0250\n",
      "Epoch 4/10\n",
      "\u001b[1m180/180\u001b[0m \u001b[32m━━━━━━━━━━━━━━━━━━━━\u001b[0m\u001b[37m\u001b[0m \u001b[1m0s\u001b[0m 342ms/step - accuracy: 0.8233 - loss: 0.4327\n",
      "Epoch 4: val_loss improved from 1.96145 to 1.50878, saving model to model_fold_5.h5\n"
     ]
    },
    {
     "name": "stderr",
     "output_type": "stream",
     "text": [
      "WARNING:absl:You are saving your model as an HDF5 file via `model.save()` or `keras.saving.save_model(model)`. This file format is considered legacy. We recommend using instead the native Keras format, e.g. `model.save('my_model.keras')` or `keras.saving.save_model(model, 'my_model.keras')`. \n"
     ]
    },
    {
     "name": "stdout",
     "output_type": "stream",
     "text": [
      "\u001b[1m180/180\u001b[0m \u001b[32m━━━━━━━━━━━━━━━━━━━━\u001b[0m\u001b[37m\u001b[0m \u001b[1m73s\u001b[0m 407ms/step - accuracy: 0.8232 - loss: 0.4327 - val_accuracy: 0.7271 - val_loss: 1.5088\n",
      "Epoch 5/10\n",
      "\u001b[1m180/180\u001b[0m \u001b[32m━━━━━━━━━━━━━━━━━━━━\u001b[0m\u001b[37m\u001b[0m \u001b[1m0s\u001b[0m 342ms/step - accuracy: 0.8193 - loss: 0.4139\n",
      "Epoch 5: val_loss improved from 1.50878 to 1.14295, saving model to model_fold_5.h5\n"
     ]
    },
    {
     "name": "stderr",
     "output_type": "stream",
     "text": [
      "WARNING:absl:You are saving your model as an HDF5 file via `model.save()` or `keras.saving.save_model(model)`. This file format is considered legacy. We recommend using instead the native Keras format, e.g. `model.save('my_model.keras')` or `keras.saving.save_model(model, 'my_model.keras')`. \n"
     ]
    },
    {
     "name": "stdout",
     "output_type": "stream",
     "text": [
      "\u001b[1m180/180\u001b[0m \u001b[32m━━━━━━━━━━━━━━━━━━━━\u001b[0m\u001b[37m\u001b[0m \u001b[1m73s\u001b[0m 406ms/step - accuracy: 0.8193 - loss: 0.4140 - val_accuracy: 0.7523 - val_loss: 1.1429\n",
      "Epoch 6/10\n",
      "\u001b[1m180/180\u001b[0m \u001b[32m━━━━━━━━━━━━━━━━━━━━\u001b[0m\u001b[37m\u001b[0m \u001b[1m0s\u001b[0m 339ms/step - accuracy: 0.8318 - loss: 0.4148\n",
      "Epoch 6: val_loss did not improve from 1.14295\n",
      "\u001b[1m180/180\u001b[0m \u001b[32m━━━━━━━━━━━━━━━━━━━━\u001b[0m\u001b[37m\u001b[0m \u001b[1m73s\u001b[0m 408ms/step - accuracy: 0.8317 - loss: 0.4149 - val_accuracy: 0.5380 - val_loss: 3.5763\n",
      "Epoch 7/10\n",
      "\u001b[1m180/180\u001b[0m \u001b[32m━━━━━━━━━━━━━━━━━━━━\u001b[0m\u001b[37m\u001b[0m \u001b[1m0s\u001b[0m 346ms/step - accuracy: 0.8509 - loss: 0.3546\n",
      "Epoch 7: val_loss did not improve from 1.14295\n",
      "\u001b[1m180/180\u001b[0m \u001b[32m━━━━━━━━━━━━━━━━━━━━\u001b[0m\u001b[37m\u001b[0m \u001b[1m73s\u001b[0m 408ms/step - accuracy: 0.8509 - loss: 0.3547 - val_accuracy: 0.5967 - val_loss: 2.2197\n",
      "Epoch 8/10\n",
      "\u001b[1m180/180\u001b[0m \u001b[32m━━━━━━━━━━━━━━━━━━━━\u001b[0m\u001b[37m\u001b[0m \u001b[1m0s\u001b[0m 331ms/step - accuracy: 0.8638 - loss: 0.3305\n",
      "Epoch 8: val_loss did not improve from 1.14295\n",
      "\u001b[1m180/180\u001b[0m \u001b[32m━━━━━━━━━━━━━━━━━━━━\u001b[0m\u001b[37m\u001b[0m \u001b[1m71s\u001b[0m 392ms/step - accuracy: 0.8638 - loss: 0.3305 - val_accuracy: 0.6560 - val_loss: 1.9225\n",
      "Epoch 9/10\n",
      "\u001b[1m180/180\u001b[0m \u001b[32m━━━━━━━━━━━━━━━━━━━━\u001b[0m\u001b[37m\u001b[0m \u001b[1m0s\u001b[0m 354ms/step - accuracy: 0.8801 - loss: 0.3117\n",
      "Epoch 9: val_loss did not improve from 1.14295\n",
      "\u001b[1m180/180\u001b[0m \u001b[32m━━━━━━━━━━━━━━━━━━━━\u001b[0m\u001b[37m\u001b[0m \u001b[1m75s\u001b[0m 415ms/step - accuracy: 0.8801 - loss: 0.3117 - val_accuracy: 0.6588 - val_loss: 2.2769\n",
      "Epoch 10/10\n",
      "\u001b[1m180/180\u001b[0m \u001b[32m━━━━━━━━━━━━━━━━━━━━\u001b[0m\u001b[37m\u001b[0m \u001b[1m0s\u001b[0m 342ms/step - accuracy: 0.8880 - loss: 0.2777\n",
      "Epoch 10: val_loss did not improve from 1.14295\n",
      "\u001b[1m180/180\u001b[0m \u001b[32m━━━━━━━━━━━━━━━━━━━━\u001b[0m\u001b[37m\u001b[0m \u001b[1m72s\u001b[0m 402ms/step - accuracy: 0.8879 - loss: 0.2779 - val_accuracy: 0.5269 - val_loss: 2.6018\n",
      "Fold 5 - Accuracy: 53.24%\n",
      "Average Accuracy: 67.48%\n"
     ]
    },
    {
     "data": {
      "image/png": "[encoded data removed]",
      "text/plain": [
       "<Figure size 1000x500 with 1 Axes>"
      ]
     },
     "metadata": {},
     "output_type": "display_data"
    },
    {
     "name": "stderr",
     "output_type": "stream",
     "text": [
      "WARNING:absl:You are saving your model as an HDF5 file via `model.save()` or `keras.saving.save_model(model)`. This file format is considered legacy. We recommend using instead the native Keras format, e.g. `model.save('my_model.keras')` or `keras.saving.save_model(model, 'my_model.keras')`. \n"
     ]
    },
    {
     "name": "stdout",
     "output_type": "stream",
     "text": [
      "Model saved at logistic_model_l2.h5\n"
     ]
    }
   ],
   "source": [
    "import os\n",
    "import zipfile\n",
    "import random\n",
    "import numpy as np\n",
    "import pandas as pd\n",
    "from sklearn.model_selection import KFold\n",
    "from tensorflow.keras.preprocessing.image import ImageDataGenerator\n",
    "from tensorflow.keras.applications import MobileNetV2  # Using a smaller model\n",
    "from tensorflow.keras.applications.mobilenet_v2 import preprocess_input\n",
    "from tensorflow.keras.layers import Dense, GlobalAveragePooling2D\n",
    "from tensorflow.keras.models import Model\n",
    "from tensorflow.keras.callbacks import ModelCheckpoint\n",
    "import tensorflow as tf\n",
    "import matplotlib.pyplot as plt\n",
    "\n",
    "# ===============================\n",
    "# ⚡ Step 1: Unzip the Dataset\n",
    "# ===============================\n",
    "zip_file = \"resized_data (1).zip\"\n",
    "extraction_path = \"./resized_data\"\n",
    "with zipfile.ZipFile(zip_file, 'r') as zip_ref:\n",
    "    zip_ref.extractall(extraction_path)\n",
    "\n",
    "# ===============================\n",
    "# ⚡ Step 2: Define Parameters\n",
    "# ===============================\n",
    "data_dir = extraction_path\n",
    "batch_size = 32\n",
    "img_height = 128  # ⬇ Reduced from 224 to 128\n",
    "img_width = 128   # ⬇ Reduced from 224 to 128\n",
    "num_classes = 4\n",
    "epochs = 10\n",
    "subset_fraction = 0.2  # ⬇ Using only 20% of dataset\n",
    "\n",
    "# ===============================\n",
    "# ⚡ Step 3: Data Augmentation\n",
    "# ===============================\n",
    "datagen = ImageDataGenerator(\n",
    "    preprocessing_function=preprocess_input,\n",
    "    horizontal_flip=True,\n",
    "    zoom_range=0.2,\n",
    "    rotation_range=10,\n",
    "    validation_split=0.2\n",
    ")\n",
    "\n",
    "image_generator = datagen.flow_from_directory(\n",
    "    data_dir,\n",
    "    target_size=(img_height, img_width),\n",
    "    batch_size=batch_size,\n",
    "    class_mode='categorical',\n",
    "    shuffle=True\n",
    ")\n",
    "\n",
    "# ===============================\n",
    "# ⚡ Step 4: Use a Smaller Subset of Data\n",
    "# ===============================\n",
    "filepaths = np.array(image_generator.filepaths)  \n",
    "random.shuffle(filepaths)  # Shuffle data\n",
    "filepaths = filepaths[:int(len(filepaths) * subset_fraction)]  # Take 20% subset\n",
    "print(f\"Using {len(filepaths)} images instead of {len(image_generator.filepaths)}\")\n",
    "\n",
    "# ===============================\n",
    "# ⚡ Step 5: K-Fold Cross Validation\n",
    "# ===============================\n",
    "k = 5\n",
    "kf = KFold(n_splits=k, shuffle=True, random_state=42)\n",
    "fold_no = 1\n",
    "accuracy_per_fold = []\n",
    "\n",
    "for train_idx, val_idx in kf.split(filepaths):\n",
    "    train_filepaths = filepaths[train_idx]\n",
    "    val_filepaths = filepaths[val_idx]\n",
    "\n",
    "    train_labels = [os.path.basename(os.path.dirname(path)) for path in train_filepaths]\n",
    "    val_labels = [os.path.basename(os.path.dirname(path)) for path in val_filepaths]\n",
    "\n",
    "    train_df = pd.DataFrame({\"filename\": train_filepaths, \"class\": train_labels})\n",
    "    val_df = pd.DataFrame({\"filename\": val_filepaths, \"class\": val_labels})\n",
    "\n",
    "    train_gen = datagen.flow_from_dataframe(\n",
    "        dataframe=train_df,\n",
    "        x_col=\"filename\",\n",
    "        y_col=\"class\",\n",
    "        target_size=(img_height, img_width),\n",
    "        batch_size=batch_size,\n",
    "        class_mode='categorical',\n",
    "        shuffle=True\n",
    "    )\n",
    "\n",
    "    val_gen = datagen.flow_from_dataframe(\n",
    "        dataframe=val_df,\n",
    "        x_col=\"filename\",\n",
    "        y_col=\"class\",\n",
    "        target_size=(img_height, img_width),\n",
    "        batch_size=batch_size,\n",
    "        class_mode='categorical',\n",
    "        shuffle=False\n",
    "    )\n",
    "\n",
    "    # ===============================\n",
    "    # ⚡ Step 6: Use MobileNetV2 Instead of ResNet50\n",
    "    # ===============================\n",
    "    base_model = MobileNetV2(weights='imagenet', include_top=False)  # ✅ Faster model\n",
    "    x = base_model.output\n",
    "    x = GlobalAveragePooling2D()(x)\n",
    "    x = Dense(512, activation='relu')(x)  # ⬇ Fewer neurons (1024 → 512)\n",
    "    predictions = Dense(num_classes, activation='softmax')(x)\n",
    "    model = Model(inputs=base_model.input, outputs=predictions)\n",
    "\n",
    "    # ===============================\n",
    "    # ⚡ Step 7: Freeze First 100 Layers\n",
    "    # ===============================\n",
    "    for layer in base_model.layers[:100]:\n",
    "        layer.trainable = False  # ✅ Freezes early layers for speed\n",
    "\n",
    "    # Compile the model\n",
    "    model.compile(optimizer='adam', loss='categorical_crossentropy', metrics=['accuracy'])\n",
    "\n",
    "    # Model checkpointing\n",
    "    checkpoint_path = f\"model_fold_{fold_no}.h5\"\n",
    "    cp_callback = ModelCheckpoint(filepath=checkpoint_path, save_best_only=True, verbose=1)\n",
    "\n",
    "    # ===============================\n",
    "    # ⚡ Step 8: Train the Model\n",
    "    # ===============================\n",
    "    print(f\"Training for fold {fold_no}...\")\n",
    "    history = model.fit(\n",
    "        train_gen,\n",
    "        validation_data=val_gen,\n",
    "        epochs=epochs,\n",
    "        callbacks=[cp_callback],\n",
    "        verbose=1\n",
    "    )\n",
    "\n",
    "    # Evaluate\n",
    "    scores = model.evaluate(val_gen, verbose=0)\n",
    "    print(f\"Fold {fold_no} - Accuracy: {scores[1]*100:.2f}%\")\n",
    "    accuracy_per_fold.append(scores[1])\n",
    "\n",
    "    fold_no += 1\n",
    "\n",
    "# ===============================\n",
    "# ⚡ Step 9: Display Final Accuracy\n",
    "# ===============================\n",
    "print(f\"Average Accuracy: {np.mean(accuracy_per_fold)*100:.2f}%\")\n",
    "\n",
    "# ===============================\n",
    "# ⚡ Step 10: Plot Accuracy Curve\n",
    "# ===============================\n",
    "plt.figure(figsize=(10, 5))\n",
    "plt.plot(history.history['accuracy'], label='Training Accuracy')\n",
    "plt.plot(history.history['val_accuracy'], label='Validation Accuracy')\n",
    "plt.title('Training and Validation Accuracy (Last Fold)')\n",
    "plt.xlabel('Epochs')\n",
    "plt.ylabel('Accuracy')\n",
    "plt.legend()\n",
    "plt.show()\n",
    "\n",
    "model_save_path = \"logistic_model_l2.h5\"\n",
    "\n",
    "# Save the entire model\n",
    "model.save(model_save_path)\n",
    "\n",
    "print(f\"Model saved at {model_save_path}\")\n"
   ]
  },
  {
   "cell_type": "code",
   "execution_count": null,
   "id": "bee0b60b-4a42-4b75-b771-34957e34a847",
   "metadata": {},
   "outputs": [],
   "source": []
  }
 ],
 "metadata": {
  "kernelspec": {
   "display_name": "Python 3 (ipykernel)",
   "language": "python",
   "name": "python3"
  },
  "language_info": {
   "codemirror_mode": {
    "name": "ipython",
    "version": 3
   },
   "file_extension": ".py",
   "mimetype": "text/x-python",
   "name": "python",
   "nbconvert_exporter": "python",
   "pygments_lexer": "ipython3",
   "version": "3.12.7"
  },
  "panel-cell-order": [
   "24f85182-4f60-4369-96e2-1ad6e53350c7",
   "326623d2-731c-45fe-b704-4115b4667bbf",
   "91583b85-5725-48c5-9899-ae927e7d3065"
  ]
 },
 "nbformat": 4,
 "nbformat_minor": 5
}
